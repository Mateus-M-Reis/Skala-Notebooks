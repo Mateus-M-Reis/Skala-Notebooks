{
 "cells": [
  {
   "cell_type": "markdown",
   "metadata": {},
   "source": [
    "# For expressions\n"
   ]
  },
  {
   "cell_type": "markdown",
   "metadata": {},
   "source": [
    "After completing this lesson, you should be able to:                                                                                  \n",
    "  - Understand the relationship between for expressions and higher order functions                                                    \n",
    "  - Describe the usage of for expressions                                                                                             \n",
    "                                                                                                                                      \n",
    "For expressions are syntactic sugar that simplifies the work of programming a multistage transformation                               \n",
    "                                                                                                                                      \n",
    "Let's take an example:    "
   ]
  },
  {
   "cell_type": "code",
   "execution_count": 1,
   "metadata": {},
   "outputs": [
    {
     "data": {
      "text/plain": [
       "[[Vector(1), Vector(2, 4), Vector(3, 6, 9)]]"
      ]
     },
     "execution_count": 1,
     "metadata": {},
     "output_type": "execute_result"
    }
   ],
   "source": [
    "val myNums = 1 to 3                                                                                                                   \n",
    "myNums.map(i => (1 to i).map(j => i * j))"
   ]
  },
  {
   "cell_type": "markdown",
   "metadata": {},
   "source": [
    "The following two examples show the same but in Java and Python."
   ]
  },
  {
   "cell_type": "raw",
   "metadata": {},
   "source": [
    "class test {                                                                                                                          \n",
    "   ¦public static void main(String[] args) {                                                                                          \n",
    "   ¦  ¦ ArrayList<Integer> lst = new ArrayList<>();                                                                                   \n",
    "   ¦  ¦ lst.add(1);                                                                                                                   \n",
    "   ¦  ¦ lst.add(2);                                                                                                                   \n",
    "   ¦  ¦ lst.add(3);                                                                                                                   \n",
    "                                                                                                                                      \n",
    "   ¦  ¦ ArrayList<ArrayList<Integer>> result = new ArrayList<>();                                                                     \n",
    "   ¦  ¦ ArrayList<Integer> subLst;                                                                                                    \n",
    "                                                                                                                                      \n",
    "                                                                                                                                      \n",
    "   ¦  ¦ for(int s=0; s < lst.size(); s++) {                                                                                           \n",
    "   ¦  ¦  ¦  subLst = new ArrayList<>();                                                                                               \n",
    "   ¦  ¦  ¦  int sValue = lst.get(s);                                                                                                  \n",
    "                                                                                                                                      \n",
    "   ¦  ¦  ¦  for(int t=0; t < s+1; t++) {                                                                                              \n",
    "   ¦  ¦  ¦  ¦  ¦int tValue = sValue * (t + 1);                                                                                        \n",
    "   ¦  ¦  ¦  ¦  ¦subLst.add(tValue);                                                                                                   \n",
    "   ¦  ¦  ¦  }                                                                                                                         \n",
    "   ¦  ¦  ¦  result.add(subLst);                                                                                                       \n",
    "   ¦  ¦ }                                                                                                                             \n",
    "                                                                                                                                      \n",
    "   ¦  ¦ System.out.println(result);                                                                                                   \n",
    "   ¦}                                                                                                                                 \n",
    "}                                 "
   ]
  },
  {
   "cell_type": "raw",
   "metadata": {},
   "source": [
    "lst = range(1, 4) # python range is not inclusive                                                                                     \n",
    "                                                                                                                                      \n",
    "result = []                                                                                                                           \n",
    "for i in lst:                                                                                                                         \n",
    "   ¦sub_result = [j * i for j in range(1, i+1)]                                                                                       \n",
    "   ¦result.append(sub_result)\n",
    "\n",
    "print(result)"
   ]
  },
  {
   "cell_type": "markdown",
   "metadata": {},
   "source": [
    "Since, we want a collections of integers rather than a collection of collections, we start the processing with `flatMap` instead of `map`."
   ]
  },
  {
   "cell_type": "code",
   "execution_count": 2,
   "metadata": {},
   "outputs": [
    {
     "data": {
      "text/plain": [
       "[[1, 4, 9]]"
      ]
     },
     "execution_count": 2,
     "metadata": {},
     "output_type": "execute_result"
    }
   ],
   "source": [
    "myNums.flatMap(i => (i to i).map(j => i * j))"
   ]
  },
  {
   "cell_type": "markdown",
   "metadata": {},
   "source": [
    "We can simplify the appearance of the code in the example above by using for-expressions."
   ]
  },
  {
   "cell_type": "code",
   "execution_count": 3,
   "metadata": {},
   "outputs": [
    {
     "data": {
      "text/plain": [
       "[[1, 2, 4, 3, 6, 9]]"
      ]
     },
     "execution_count": 3,
     "metadata": {},
     "output_type": "execute_result"
    }
   ],
   "source": [
    "val myNums = (1 to 3).toVector\n",
    "val result: Vector[Int] = for {\n",
    "  i <- myNums\n",
    "  j <- 1 to i\n",
    "} yield i * j"
   ]
  },
  {
   "cell_type": "markdown",
   "metadata": {},
   "source": [
    "The rules for using the `for` expressions is that they:\n",
    "  - must with the keyword `for`\n",
    "  - must have generators that use `<-`\n",
    "  - the `yield` keyword will dictate whether or not a new value is returned\n",
    "\n",
    "`for` expressions are alternative syntax (a.k.a syntactic sugar) for the combined use of `flatMap`, `map`, `withFilter` and `foreach` \n",
    "higher-order functions.\n",
    "\n",
    "We can also apply guard conditions in `for` expressions. Below we modify the earlier example by filtering the original list of `myNums\n",
    "` to odd numbers only.\n"
   ]
  },
  {
   "cell_type": "code",
   "execution_count": 4,
   "metadata": {},
   "outputs": [
    {
     "data": {
      "text/plain": [
       "[[1, 3, 6, 9]]"
      ]
     },
     "execution_count": 4,
     "metadata": {},
     "output_type": "execute_result"
    }
   ],
   "source": [
    "val myNums = (1 to 3).toVector\n",
    "val result: Vector[Int] = for {\n",
    "  i <- myNums if i % 2 == 1\n",
    "  j <- 1 to i\n",
    "} yield i * j"
   ]
  },
  {
   "cell_type": "markdown",
   "metadata": {},
   "source": [
    "With this modification we have the results of starting the multiplication with the odd numbers only. You can also modify one of the ot\n",
    "her earlier examples in Java or Python to achieve the same result.\n",
    "\n",
    "`for` expression syntax also allows for local definitions. For instance,"
   ]
  },
  {
   "cell_type": "code",
   "execution_count": 5,
   "metadata": {},
   "outputs": [
    {
     "data": {
      "text/plain": [
       "[[8pm]]"
      ]
     },
     "execution_count": 5,
     "metadata": {},
     "output_type": "execute_result"
    }
   ],
   "source": [
    "case class Time(hours: Int, minutes: Int)\n",
    "\n",
    "val times = List[Time](Time(10, 10), Time(11, 11), Time(20, 9))\n",
    "\n",
    "val result: List[String] = for {\n",
    "  time <- times\n",
    "  hours = time.hours if hours > 12\n",
    "} yield (hours - 12) + \"pm\""
   ]
  },
  {
   "cell_type": "markdown",
   "metadata": {},
   "source": [
    "Note that this is the same as\n"
   ]
  },
  {
   "cell_type": "code",
   "execution_count": 6,
   "metadata": {},
   "outputs": [
    {
     "data": {
      "text/plain": [
       "[[8pm]]"
      ]
     },
     "execution_count": 6,
     "metadata": {},
     "output_type": "execute_result"
    }
   ],
   "source": [
    "case class Time(hours: Int, minutes: Int)\n",
    "\n",
    "val times = List[Time](Time(10, 10), Time(11, 11), Time(20, 9))\n",
    "\n",
    "val result: List[String] = for {\n",
    "  time <- times\n",
    "  if time.hours > 12\n",
    "} yield (time.hours - 12) + \"pm\""
   ]
  },
  {
   "cell_type": "markdown",
   "metadata": {},
   "source": [
    "The local definition of `hours` is introduced only to simplify the code below.\n",
    "\n",
    "All of the code written up to this point has been used to produce values. There are times when we do not want to produce a value. We a\n",
    "re executing code to accomplish some sort of side-effect. This could be writing to a database or printing something to the screen or a\n",
    "ny operation that doesn't return a value but has an external effect. `for` expressions accommodate this situation by allowing us to om\n",
    "it the use of `yield`."
   ]
  },
  {
   "cell_type": "code",
   "execution_count": 7,
   "metadata": {},
   "outputs": [
    {
     "name": "stdout",
     "output_type": "stream",
     "text": [
      "1\n",
      "2\n",
      "3\n"
     ]
    }
   ],
   "source": [
    "for (n <- 1 to 3) println(n)"
   ]
  },
  {
   "cell_type": "markdown",
   "metadata": {},
   "source": [
    "The code above is equivalent to\n"
   ]
  },
  {
   "cell_type": "code",
   "execution_count": 8,
   "metadata": {},
   "outputs": [
    {
     "name": "stdout",
     "output_type": "stream",
     "text": [
      "1\n",
      "2\n",
      "3\n"
     ]
    }
   ],
   "source": [
    "(1 to 3).foreach(i => println(i))"
   ]
  },
  {
   "cell_type": "markdown",
   "metadata": {},
   "source": [
    "To summarize:\n",
    "\n",
    "  - `for` expressions are a more readable way of expressions consisting of nested `map`, `flatMap`, `filter` and `foreach`.\n",
    "  - the compiler will translate for expressions that we write into a chain of `map`, `flatMap`, `filter` and `foreach`\n",
    "  - the syntax allows for filtering and local definitions\n",
    "  - use `for` expressions whenever you are iterating thought more than one collection-like object or want to chain multiple transforma\n",
    "tions"
   ]
  },
  {
   "cell_type": "markdown",
   "metadata": {},
   "source": [
    "# Patterns Matching\n"
   ]
  },
  {
   "cell_type": "markdown",
   "metadata": {},
   "source": [
    "Pattern matching is a powerful construct that improves on the familiar `switch`/`case` syntax (which is absent in Scala). It is best t\n",
    "o start with a simple example:"
   ]
  },
  {
   "cell_type": "code",
   "execution_count": 9,
   "metadata": {},
   "outputs": [
    {
     "name": "stdout",
     "output_type": "stream",
     "text": [
      "found some value of type Int\n"
     ]
    },
    {
     "data": {
      "text/plain": [
       "null"
      ]
     },
     "execution_count": 9,
     "metadata": {},
     "output_type": "execute_result"
    }
   ],
   "source": [
    "val result: Int = 10\n",
    "\n",
    "result match {\n",
    "  case 1 => println(\"found 1\")\n",
    "  case someInteger: Int => println(\"found some value of type Int\")                                                                     \n",
    "  // the compiler will issue a warning because this code is acutally impossible to reach. Any value of type Int will match the second condition                                                                                                                               \n",
    "  case _ => println(\"found something that is not 1 or some other integer\")\n",
    "}"
   ]
  },
  {
   "cell_type": "markdown",
   "metadata": {},
   "source": [
    "Matching is started with the keyword `match` which is followed by a block of case statements. The left-hand side of the `=>` in the `case` statement supports several varieties of syntax. The right-hand side can contain arbitrary code.                                    \n",
    "                                                                                                                                       \n",
    "In the first `case` statement, we've checking if the `result` we're trying to find a match for is an integer 1. If it is not, the patte\n",
    "rn matching moves on to the next `case` statement. In the following statement, if the value of `result` has a type of `Int`. If that is\n",
    " true, the value of `result` is stored in the name `someInteger`, this is known as a `type` pattern. If this pattern match is not succe\n",
    "ssful, ie if `result` is not of type `Int`, the next case is evaluated. This last statement is a catch-all that will successfully match\n",
    " anything. When it matches, the string `\"found something that is not 1 or some other integer\"` will be printed to the screen.          \n",
    "We can wrap this pattern matching expressions into a function and experiment with it."
   ]
  },
  {
   "cell_type": "code",
   "execution_count": 10,
   "metadata": {},
   "outputs": [
    {
     "name": "stdout",
     "output_type": "stream",
     "text": [
      "found 1\n",
      "found some value of type Int\n"
     ]
    },
    {
     "data": {
      "text/plain": [
       "null"
      ]
     },
     "execution_count": 10,
     "metadata": {},
     "output_type": "execute_result"
    }
   ],
   "source": [
    "def isOneOrInteger(value: Int): Unit =                                                                                                 \n",
    "  value match {                                                                                                                        \n",
    "   case 1 => println(\"found 1\")                                                                                                       \n",
    "   case someInteger: Int => println(\"found some value of type Int\")                                                                   \n",
    "   case _ => println(\"found something that is not 1 or some other integer\")                                                           \n",
    "  }                                                                                                                                    \n",
    "                                                                                                                                       \n",
    "isOneOrInteger(1)                                                                                                                      \n",
    "isOneOrInteger(22)"
   ]
  },
  {
   "cell_type": "markdown",
   "metadata": {},
   "source": [
    "With this definition of the function the compiler will not actually allow us to pass anything other than integers as parameters to the \n",
    "function. In order to get around this, we have to relax the type of `value` to `Any`. Make this change and pass parameters of other typ\n",
    "es into the function. Observe the output.\n",
    "\n",
    "Pattern matching is very useful when you want to act on specific values of some case class or a hierarchy of types that represents a se\n",
    "t of alternatives (also known as an Algebraic Data Type).\n",
    "\n",
    "As a reminder, an Algebraic Data Type is a way to encode the fact that a certain type is represented by a finite set of alternatives. F\n",
    "or instance, in Scala the Boolean type contains two values, `true` and `false`. We could represent these as distinct types. This is sho\n",
    "wn below:'"
   ]
  },
  {
   "cell_type": "code",
   "execution_count": 11,
   "metadata": {},
   "outputs": [
    {
     "data": {
      "text/plain": [
       "defined trait MyBoolean\n",
       "defined class True\n",
       "defined class False\n"
      ]
     },
     "execution_count": 11,
     "metadata": {},
     "output_type": "execute_result"
    }
   ],
   "source": [
    "sealed trait MyBoolean {\n",
    "  def value: Boolean\n",
    "}\n",
    "case class True(value: Boolean = true) extends MyBoolean\n",
    "case class False(value: Boolean = false) extends MyBoolean"
   ]
  },
  {
   "cell_type": "markdown",
   "metadata": {},
   "source": [
    "This the typical representation of an ADT in Scala. Closing the `trait` with `sealed` means that all of the definitions that are inheri\n",
    "t from this trait are are defined in the same Scala file where this definition is located.\n",
    "\n",
    "\n",
    "As another example, we could model the behavior of a light switch with an ADT. This is shown below:"
   ]
  },
  {
   "cell_type": "code",
   "execution_count": 12,
   "metadata": {},
   "outputs": [
    {
     "data": {
      "text/plain": [
       "Off"
      ]
     },
     "execution_count": 12,
     "metadata": {},
     "output_type": "execute_result"
    }
   ],
   "source": [
    "sealed trait LightSwitch\n",
    "case object On extends LightSwitch\n",
    "case object Off extends LightSwitch"
   ]
  },
  {
   "cell_type": "markdown",
   "metadata": {},
   "source": [
    "Since we've notified the compiler, by using `sealed`, that all of the subtypes of `LightSwitch` are in this file, it (the compiler) wil\n",
    "l verify that we have covered all of the cases when we pattern match on a value of type `LightSwitch`. Assign a value to `light` and ob\n",
    "serve the behavior."
   ]
  },
  {
   "cell_type": "code",
   "execution_count": 13,
   "metadata": {},
   "outputs": [
    {
     "name": "stdout",
     "output_type": "stream",
     "text": [
      "this switch is off\n"
     ]
    },
    {
     "data": {
      "text/plain": [
       "null"
      ]
     },
     "execution_count": 13,
     "metadata": {},
     "output_type": "execute_result"
    }
   ],
   "source": [
    "sealed trait LightSwitch\n",
    "case object On extends LightSwitch\n",
    "case object Off extends LightSwitch\n",
    "\n",
    "val light: LightSwitch = Off\n",
    "\n",
    "def status(value: LightSwitch): Unit =\n",
    "  value match {\n",
    "   case On => println(\"the switch is on\")\n",
    "   case Off => println(\"this switch is off\")\n",
    "  }\n",
    "\n",
    "status(light)"
   ]
  },
  {
   "cell_type": "markdown",
   "metadata": {},
   "source": [
    "We can write something similar to the above for our custom `Boolean` type. These values are little bit more complex in that they actual\n",
    "ly carry some values. However, using pattern matching we can de-compose or `unapply` case class into its components. Set value of `b` t\n",
    "o one of the possible alternatives and observe the difference."
   ]
  },
  {
   "cell_type": "code",
   "execution_count": 14,
   "metadata": {},
   "outputs": [
    {
     "data": {
      "text/plain": [
       "defined trait MyBoolean\n",
       "defined class True\n",
       "defined class False\n",
       "b: MyBoolean = False(false)\n",
       "isItActuallyTrue: (value: MyBoolean)Unit\n"
      ]
     },
     "execution_count": 14,
     "metadata": {},
     "output_type": "execute_result"
    }
   ],
   "source": [
    "sealed trait MyBoolean {\n",
    "  def value: Boolean\n",
    "}\n",
    "\n",
    "case class True(override val value: Boolean = true) extends MyBoolean\n",
    "case class False(override val value: Boolean = false) extends MyBoolean\n",
    "\n",
    "\n",
    "val b: MyBoolean = False()\n",
    "\n",
    "def isItActuallyTrue(value: MyBoolean): Unit =\n",
    "  value match {\n",
    "   case True(true) => println(\"it is actually true!\")\n",
    "   case True(false) => println(\"it is pretending to be true!\")\n",
    "   case False(true) => println(\"it is pretending to be false, but is actually true!\")\n",
    "   case False(false) => println(\"it is really false!\")\n",
    "  }"
   ]
  },
  {
   "cell_type": "markdown",
   "metadata": {},
   "source": [
    "# Options"
   ]
  },
  {
   "cell_type": "markdown",
   "metadata": {},
   "source": [
    "`Option` represents a presence or an absence of a value. Consider division. We could implement division and handle division by 0 by thr\n",
    "owing an exception like so:"
   ]
  },
  {
   "cell_type": "code",
   "execution_count": 33,
   "metadata": {},
   "outputs": [
    {
     "ename": "java.lang.Exception",
     "evalue": " Denominator is 0",
     "output_type": "error",
     "text": "java.lang.Exception: Denominator is 0\n  at divE(<console>:114)\n  ... 50 elided\n",
     "traceback": [
      "\u001b[1;31mjava.lang.Exception: Denominator is 0\u001b[0;0m",
      "\u001b[1;31m  at divE(<console>:114)\u001b[0;0m",
      "\u001b[1;31m  ... 50 elided\u001b[0;0m"
     ]
    }
   ],
   "source": [
    "def divE(numerator: Int, denominator: Int): Int =\n",
    "  if (denominator == 0) throw new Exception(\"Denominator is 0\") else numerator / denominator\n",
    "\n",
    "divE(10, 2)\n",
    "divE(2, 0)"
   ]
  },
  {
   "cell_type": "markdown",
   "metadata": {},
   "source": [
    "However, this is far from idiomatic Scala. In the above we interrupting the flow of the program with an exception that we can easily ha\n",
    "ndle ourselves. Furthermore, there is nothing about the function definition that communicates to us that this function may not produce \n",
    "a value in some cases. The following is a better definition of the same function:"
   ]
  },
  {
   "cell_type": "code",
   "execution_count": 16,
   "metadata": {},
   "outputs": [
    {
     "data": {
      "text/plain": [
       "None"
      ]
     },
     "execution_count": 16,
     "metadata": {},
     "output_type": "execute_result"
    }
   ],
   "source": [
    "def divO(numerator: Int, denominator: Int): Option[Int] =\n",
    "  if (denominator == 0) None else Some(numerator / denominator)\n",
    "\n",
    "divO(10, 2)\n",
    "divO(2, 0)"
   ]
  },
  {
   "cell_type": "markdown",
   "metadata": {},
   "source": [
    "Pattern matching makes processing values of type `Option` straightforward."
   ]
  },
  {
   "cell_type": "code",
   "execution_count": 17,
   "metadata": {},
   "outputs": [
    {
     "data": {
      "text/plain": [
       "stringLegnth: (value: Option[String])Int\n"
      ]
     },
     "execution_count": 17,
     "metadata": {},
     "output_type": "execute_result"
    }
   ],
   "source": [
    "def stringLegnth(value: Option[String]): Int =\n",
    "  value match {\n",
    "   case Some(str) => str.length\n",
    "   case None => 0\n",
    "  }"
   ]
  },
  {
   "cell_type": "markdown",
   "metadata": {},
   "source": [
    "This pattern, where we want to extract the value from an `Option` or provide a default value when the it is None occurs frequently. It \n",
    "is more concisely represented by the function `getOrElse`. Thus, we can reimplement the functionality of `stringLegnth` as:"
   ]
  },
  {
   "cell_type": "code",
   "execution_count": 18,
   "metadata": {},
   "outputs": [
    {
     "data": {
      "text/plain": [
       "stringLegnth: (value: Option[String])Int\n"
      ]
     },
     "execution_count": 18,
     "metadata": {},
     "output_type": "execute_result"
    }
   ],
   "source": [
    "def stringLegnth(value: Option[String]): Int =\n",
    "  value.getOrElse(\"\").length"
   ]
  },
  {
   "cell_type": "markdown",
   "metadata": {},
   "source": [
    "We provide the default value of `\"\"` (empty string) for the case when `value` is `None`.\n",
    "\n",
    "There are a number of higher order functions we can use with `Option`. For example, another way to implement `stringLegnth` to combine \n",
    "`map` and `getOrElse`."
   ]
  },
  {
   "cell_type": "code",
   "execution_count": 19,
   "metadata": {},
   "outputs": [
    {
     "data": {
      "text/plain": [
       "stringLegnth: (value: Option[String])Int\n"
      ]
     },
     "execution_count": 19,
     "metadata": {},
     "output_type": "execute_result"
    }
   ],
   "source": [
    "def stringLegnth(value: Option[String]): Int =\n",
    "  value.map(str => str.length).getOrElse(0)"
   ]
  },
  {
   "cell_type": "markdown",
   "metadata": {},
   "source": [
    "If `value` is a `Some` we will compute the length of the string that it contains. If it is `None`, `map` will not do anything. Subseque\n",
    "ntly, `getOrElse` will be called. Note, that `getOrElse` is now being called on an `Option[Int]` value, because by using `map` we have \n",
    "changed the type of the value inside the `Option` from `String` to `Int`. As always, `getOrElse` will either return the contents of the\n",
    " `Option` or the default value of 0.\n",
    "\n",
    "We can sequence processing of options with `flatMap`. For example,"
   ]
  },
  {
   "cell_type": "code",
   "execution_count": 20,
   "metadata": {},
   "outputs": [
    {
     "data": {
      "text/plain": [
       "None"
      ]
     },
     "execution_count": 20,
     "metadata": {},
     "output_type": "execute_result"
    }
   ],
   "source": [
    "def fullName(firstName: Option[String], lastName: Option[String]): Option[String] =\n",
    "  firstName.flatMap(fn => lastName.map(ln => s\"$fn $ln\"))\n",
    "\n",
    "val bothOption: Option[String] = fullName(Option(\"John\"), Option(\"Doe\"))\n",
    "val oneOption: Option[String] = fullName(Option(\"Prince\"), None)"
   ]
  },
  {
   "cell_type": "markdown",
   "metadata": {},
   "source": [
    "As you may remember the section on `for` expressions, nested combinations of `map` and `flatMap` can be re-written using `for` expressi\n",
    "ons. Thus, the `fullName` function above can be written as:"
   ]
  },
  {
   "cell_type": "code",
   "execution_count": 21,
   "metadata": {},
   "outputs": [
    {
     "data": {
      "text/plain": [
       "None"
      ]
     },
     "execution_count": 21,
     "metadata": {},
     "output_type": "execute_result"
    }
   ],
   "source": [
    "def fullName(firstName: Option[String], lastName: Option[String]): Option[String] =\n",
    "  for {\n",
    "   fn <- firstName\n",
    "   ln <- lastName\n",
    "  } yield s\"$fn $ln\"\n",
    "\n",
    "fullName(Option(\"John\"), Option(\"Doe\"))                                                                                                \n",
    "fullName(Option(\"Prince\"), None)"
   ]
  },
  {
   "cell_type": "markdown",
   "metadata": {},
   "source": [
    "# Handling Failure"
   ]
  },
  {
   "cell_type": "markdown",
   "metadata": {},
   "source": [
    "There are a number of mechanisms that we can use in Scala to handle failures. In particular, we have already seen that instead of throw\n",
    "ing exceptions we can avoid them by using `Option`. The Scala standard library provides another abstraction to help us with code where \n",
    "we have to handle an exception rather than avoiding it, `Try`.\n",
    "\n",
    "`Try` is actually an ADT that consists of `Success` and `Failure`. `Success` captures the result of the successful computation. `Failur\n",
    "e` captures the exception that occurred during the computation. This is shown below."
   ]
  },
  {
   "cell_type": "code",
   "execution_count": 22,
   "metadata": {},
   "outputs": [
    {
     "name": "stdout",
     "output_type": "stream",
     "text": [
      "got an exception of: java.lang.ArithmeticException: / by zero\n"
     ]
    },
    {
     "data": {
      "text/plain": [
       "null"
      ]
     },
     "execution_count": 22,
     "metadata": {},
     "output_type": "execute_result"
    }
   ],
   "source": [
    "import scala.util.{Try, Success, Failure}\n",
    "\n",
    "def divT(numerator: Int, denominator: Int): Try[Int] =\n",
    "  Try(numerator / denominator)\n",
    "\n",
    "val result: Try[Int] = divT(10, 0)\n",
    "\n",
    "result match {\n",
    "  case Success(v) => println(\"got the result of: \" + v)\n",
    "  case Failure(e) => println(\"got an exception of: \" + e)\n",
    "}"
   ]
  },
  {
   "cell_type": "markdown",
   "metadata": {},
   "source": [
    "As can be seen above, we can use pattern matching to process a value of type `Try`. Similar to `Option`, `Try` implements a number of h\n",
    "igher order functions. Some of these functions are shown below."
   ]
  },
  {
   "cell_type": "code",
   "execution_count": 23,
   "metadata": {},
   "outputs": [
    {
     "data": {
      "text/plain": [
       "Success(0)"
      ]
     },
     "execution_count": 23,
     "metadata": {},
     "output_type": "execute_result"
    }
   ],
   "source": [
    "import scala.util.{Try, Success, Failure}\n",
    "\n",
    "def divT(numerator: Int, denominator: Int): Try[Int] =\n",
    "  Try(numerator / denominator)\n",
    "\n",
    "val result: Try[Int] = divT(10, 0)\n",
    "\n",
    "// getOrElse on Try works the same was as on Option. note that the value has to be the same type as the success case\n",
    "val getOrElseValue: Int = result.getOrElse(0)\n",
    "\n",
    "// similar to Option, if `result` is a `Success` add 10 to it. Otherwise, do nothing\n",
    "val mapValue: Try[Int] = result.map(success => success + 10)\n",
    "\n",
    "// just like with `Option` we can sequence try computations with `flatMap`\n",
    "val flatMapValue: Try[Int] = result.flatMap(success => divT(success, 10))\n",
    "\n",
    "// transform takes two functions as parameters, one for each type of result\n",
    "val transformValue: Try[Int] = result.transform(s => Success(s + 10), ex => Success(0))"
   ]
  },
  {
   "cell_type": "markdown",
   "metadata": {},
   "source": [
    "Since we have `map` and `flatMap` implemented on `Try`, we can use `for` expressions with `Try`."
   ]
  },
  {
   "cell_type": "code",
   "execution_count": 24,
   "metadata": {},
   "outputs": [
    {
     "data": {
      "text/plain": [
       "Success(32)"
      ]
     },
     "execution_count": 24,
     "metadata": {},
     "output_type": "execute_result"
    }
   ],
   "source": [
    "import scala.util.{Try, Success, Failure}\n",
    "\n",
    "def divT(numerator: Int, denominator: Int): Try[Int] =\n",
    "  Try(numerator / denominator)\n",
    "\n",
    "val result: Try[Int] = for {\n",
    "  r1 <- divT(10, 10)\n",
    "  r2 <- divT(1100, 34)\n",
    "} yield r1 * r2"
   ]
  },
  {
   "cell_type": "markdown",
   "metadata": {},
   "source": [
    "The above can also be represented as:"
   ]
  },
  {
   "cell_type": "code",
   "execution_count": 25,
   "metadata": {},
   "outputs": [
    {
     "data": {
      "text/plain": [
       "Success(32)"
      ]
     },
     "execution_count": 25,
     "metadata": {},
     "output_type": "execute_result"
    }
   ],
   "source": [
    "import scala.util.{Try, Success, Failure}\n",
    "\n",
    "def divT(numerator: Int, denominator: Int): Try[Int] =\n",
    "  Try(numerator / denominator)\n",
    "\n",
    "val resultForExpression: Try[Int] = for {\n",
    "  r1 <- divT(10, 10)\n",
    "  r2 <- divT(1100, 34)\n",
    "} yield r1 * r2\n",
    "\n",
    "val resultFlatMap = divT(10, 10).flatMap(r1 => divT(1100, 34).map(r2 => r1 * r2))"
   ]
  },
  {
   "cell_type": "markdown",
   "metadata": {},
   "source": [
    "# Futures"
   ]
  },
  {
   "cell_type": "markdown",
   "metadata": {},
   "source": [
    "By relying on immutability Scala makes multi-threaded programming easier. In addition to this, the Scala standard library provides an a\n",
    "dditional abstract to represent computations that may happen at a later time or on another thread. This abstraction is represented by t\n",
    "he `Future` type.\n",
    "\n",
    "Prior to being able to create values of type `Future` we must specify on what thread pool the execution will be performed. The framewor\n",
    "k you're working with (like Play or Akka) will typically provide a way for you to use its own thread pool. In Scala, Java thread pools \n",
    "as wrapped into values of type `ExecutionContext`. Creating an `ExecutionContext` is shown below:"
   ]
  },
  {
   "cell_type": "code",
   "execution_count": 26,
   "metadata": {},
   "outputs": [
    {
     "data": {
      "text/plain": [
       "scala.concurrent.impl.ExecutionContextImpl@4b0eeb11"
      ]
     },
     "execution_count": 26,
     "metadata": {},
     "output_type": "execute_result"
    }
   ],
   "source": [
    "import scala.concurrent.ExecutionContext\n",
    "import java.util.concurrent.ForkJoinPool\n",
    "\n",
    "val ec: ExecutionContext = ExecutionContext.fromExecutor(new ForkJoinPool())"
   ]
  },
  {
   "cell_type": "markdown",
   "metadata": {},
   "source": [
    "with this value in scope we can start creating values of type `Future`."
   ]
  },
  {
   "cell_type": "code",
   "execution_count": 27,
   "metadata": {},
   "outputs": [
    {
     "data": {
      "text/plain": [
       "scala.concurrent.impl.ExecutionContextImpl@67b2ebcf"
      ]
     },
     "execution_count": 27,
     "metadata": {},
     "output_type": "execute_result"
    }
   ],
   "source": [
    "import scala.concurrent.{ExecutionContext, Future}\n",
    "import java.util.concurrent.ForkJoinPool\n",
    "\n",
    "val ec: ExecutionContext = ExecutionContext.fromExecutor(new ForkJoinPool())\n",
    "\n",
    "// use `.successful` if simply wrapping a static value into a `Future`. This doesn't create threads\n"
   ]
  },
  {
   "cell_type": "code",
   "execution_count": 28,
   "metadata": {},
   "outputs": [
    {
     "data": {
      "text/plain": [
       "Future(<not completed>)"
      ]
     },
     "execution_count": 28,
     "metadata": {},
     "output_type": "execute_result"
    }
   ],
   "source": [
    "val f1: Future[Int] = Future.successful(1)\n",
    "\n",
    "def longComputation(duration: Int): Int = {\n",
    "  // pretend as if time consuming work is being done\n",
    "  import java.lang.Thread.sleep\n",
    "  sleep(duration)\n",
    "  duration\n",
    "}\n",
    "\n",
    "// this will be executed in a thread on the ExecutionContext\n",
    "// we are passing the ExecutionContext value explicitly\n",
    "val f2: Future[Int] = Future(longComputation(100))(ec)"
   ]
  },
  {
   "cell_type": "markdown",
   "metadata": {},
   "source": [
    "Passing the `ExecutionContext` value every time we use a `Future` is error-prone and hards readability. `Future` instances can take thi\n",
    "s parameter as an implicit parameter. Thus, we can write,"
   ]
  },
  {
   "cell_type": "code",
   "execution_count": 29,
   "metadata": {},
   "outputs": [
    {
     "data": {
      "text/plain": [
       "Future(<not completed>)"
      ]
     },
     "execution_count": 29,
     "metadata": {},
     "output_type": "execute_result"
    }
   ],
   "source": [
    "import scala.concurrent.{ExecutionContext, Future}\n",
    "import java.util.concurrent.ForkJoinPool\n",
    "\n",
    "implicit val ec: ExecutionContext = ExecutionContext.fromExecutor(new ForkJoinPool())\n",
    "\n",
    "def longComputation(duration: Int): Future[Int] = {\n",
    "  // pretend as if time consuming work is being done\n",
    "  import java.lang.Thread.sleep\n",
    "  Future {\n",
    "   sleep(duration)\n",
    "   duration\n",
    "  }\n",
    "}\n",
    "\n",
    "val f3: Future[Int] = longComputation(100)"
   ]
  },
  {
   "cell_type": "markdown",
   "metadata": {},
   "source": [
    "Note that when we run code like `Futuer(longComputation(100))`, the result that is returned an `Future` that has not yet been completed\n",
    ". Eventually, the value will be computed and available. However, this doesn't prevent as from writing code that will be executed after \n",
    "the value as been fulfilled.\n",
    "\n",
    "For example, we can pattern match on `Future`."
   ]
  },
  {
   "cell_type": "code",
   "execution_count": 30,
   "metadata": {},
   "outputs": [
    {
     "data": {
      "text/plain": [
       "null"
      ]
     },
     "execution_count": 30,
     "metadata": {},
     "output_type": "execute_result"
    },
    {
     "name": "stdout",
     "output_type": "stream",
     "text": [
      "!hello world!\n"
     ]
    }
   ],
   "source": [
    "import scala.concurrent.{ExecutionContext, Future}\n",
    "import scala.util.{Success, Failure}\n",
    "import java.util.concurrent.ForkJoinPool\n",
    "\n",
    "implicit val ec: ExecutionContext = ExecutionContext.fromExecutor(new ForkJoinPool())\n",
    "\n",
    "def longComputation(duration: Int): Future[Int] = {\n",
    "  // pretend as if time consuming work is being done\n",
    "  import java.lang.Thread.sleep\n",
    "  Future {\n",
    "   sleep(duration)\n",
    "   duration\n",
    "  }\n",
    "}\n",
    "\n",
    "val f4: Future[String] = Future {\n",
    "  import java.lang.Thread.sleep\n",
    "  sleep(100)\n",
    "  \"hello \" + \"world!\"\n",
    "}\n",
    "\n",
    "f4.onComplete {\n",
    "  case Success(value) => println(\"!\" + value)\n",
    "  case Failure(ex) => println(\"something went wrong. we took too long to add two strings!\")\n",
    "}"
   ]
  },
  {
   "cell_type": "code",
   "execution_count": 32,
   "metadata": {},
   "outputs": [
    {
     "ename": "<console>",
     "evalue": "1",
     "output_type": "error",
     "text": "<console>:1: error: ';' expected but '.' found.\nWe can use familiar higher order functions and `for` expressions.\n                                                                ^\n",
     "traceback": [
      "\u001b[1;31m<console>:1: error: ';' expected but '.' found.\u001b[0;0m",
      "\u001b[1;31mWe can use familiar higher order functions and `for` expressions.\u001b[0;0m",
      "\u001b[1;31m                                                                ^\u001b[0;0m"
     ]
    }
   ],
   "source": [
    "We can use familiar higher order functions and `for` expressions."
   ]
  }
 ],
 "metadata": {
  "kernelspec": {
   "display_name": "Scala",
   "language": "scala",
   "name": "scala"
  },
  "language_info": {
   "codemirror_mode": "text/x-scala",
   "file_extension": ".scala",
   "mimetype": "",
   "name": "Scala",
   "nbconverter_exporter": "",
   "version": "2.11.12"
  }
 },
 "nbformat": 4,
 "nbformat_minor": 4
}
